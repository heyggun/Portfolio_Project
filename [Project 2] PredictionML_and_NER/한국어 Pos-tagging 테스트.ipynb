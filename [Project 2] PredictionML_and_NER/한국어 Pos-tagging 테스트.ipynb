{
 "cells": [
  {
   "cell_type": "markdown",
   "id": "c84bbed8",
   "metadata": {},
   "source": [
    "### 유저 소개글 중 유의미한 keyword를 가장 잘 추출하는 한국어 Pos-tagging 테스트"
   ]
  },
  {
   "cell_type": "markdown",
   "id": "fce8301f",
   "metadata": {},
   "source": [
    "    테스트할 Konlpy 라이브러리\n",
    "    - (1) Komoran\n",
    "    - (2) Hannanum\n",
    "    - (3) Kkma\n",
    "    - (4) Mecab\n",
    "    - (5) Okt\n",
    "    - (6) Twitter"
   ]
  },
  {
   "cell_type": "markdown",
   "id": "e946ff13",
   "metadata": {},
   "source": [
    "## `1. 데이터 로드`"
   ]
  },
  {
   "cell_type": "code",
   "execution_count": 1,
   "id": "d3a025cc",
   "metadata": {},
   "outputs": [],
   "source": [
    "import pandas as pd\n",
    "import numpy as np"
   ]
  },
  {
   "cell_type": "code",
   "execution_count": 2,
   "id": "68ce76fb",
   "metadata": {},
   "outputs": [
    {
     "data": {
      "text/html": [
       "<div>\n",
       "<style scoped>\n",
       "    .dataframe tbody tr th:only-of-type {\n",
       "        vertical-align: middle;\n",
       "    }\n",
       "\n",
       "    .dataframe tbody tr th {\n",
       "        vertical-align: top;\n",
       "    }\n",
       "\n",
       "    .dataframe thead th {\n",
       "        text-align: right;\n",
       "    }\n",
       "</style>\n",
       "<table border=\"1\" class=\"dataframe\">\n",
       "  <thead>\n",
       "    <tr style=\"text-align: right;\">\n",
       "      <th></th>\n",
       "      <th>user_id</th>\n",
       "      <th>Sex</th>\n",
       "      <th>Age</th>\n",
       "      <th>location</th>\n",
       "      <th>Introduction</th>\n",
       "    </tr>\n",
       "  </thead>\n",
       "  <tbody>\n",
       "    <tr>\n",
       "      <th>0</th>\n",
       "      <td>0</td>\n",
       "      <td>여성</td>\n",
       "      <td>40대</td>\n",
       "      <td>b</td>\n",
       "      <td>좋은 인연을 만나기가 참 힘드네요  서로 배려해주고 아껴주는  친구처럼 편안한 사람...</td>\n",
       "    </tr>\n",
       "    <tr>\n",
       "      <th>1</th>\n",
       "      <td>1</td>\n",
       "      <td>남성</td>\n",
       "      <td>40대</td>\n",
       "      <td>k</td>\n",
       "      <td>중소기업이지만 동일업계에서 인정받는 회사에 임원입니다.  안정적인 직장에 안정적인 ...</td>\n",
       "    </tr>\n",
       "    <tr>\n",
       "      <th>2</th>\n",
       "      <td>2</td>\n",
       "      <td>남성</td>\n",
       "      <td>30대</td>\n",
       "      <td>b</td>\n",
       "      <td>안녕하세요.  저는 부천 있는 중소기업 현장에서 근무하고 있습니다. 나이가 있는 관...</td>\n",
       "    </tr>\n",
       "    <tr>\n",
       "      <th>3</th>\n",
       "      <td>3</td>\n",
       "      <td>남성</td>\n",
       "      <td>40대</td>\n",
       "      <td>e</td>\n",
       "      <td>저는 개발자입니다. 저랑 남아있는 생을 행복하게 함께보낼 배우자를 찾습니다.</td>\n",
       "    </tr>\n",
       "    <tr>\n",
       "      <th>4</th>\n",
       "      <td>4</td>\n",
       "      <td>여성</td>\n",
       "      <td>20대</td>\n",
       "      <td>h</td>\n",
       "      <td>🌼🌻🌼   여자 입니다 🌻🌼🌻dd</td>\n",
       "    </tr>\n",
       "    <tr>\n",
       "      <th>...</th>\n",
       "      <td>...</td>\n",
       "      <td>...</td>\n",
       "      <td>...</td>\n",
       "      <td>...</td>\n",
       "      <td>...</td>\n",
       "    </tr>\n",
       "    <tr>\n",
       "      <th>3191</th>\n",
       "      <td>3191</td>\n",
       "      <td>남성</td>\n",
       "      <td>40대</td>\n",
       "      <td>h</td>\n",
       "      <td>저는 이것저것? 장사를 하고 이 어려운 시기 잘? 버티고 있습니다ㅜㅜ 그쪽도 그런가...</td>\n",
       "    </tr>\n",
       "    <tr>\n",
       "      <th>3192</th>\n",
       "      <td>3192</td>\n",
       "      <td>남성</td>\n",
       "      <td>50대</td>\n",
       "      <td>h</td>\n",
       "      <td>다정다감하며 늘 긍정적이며 후회없는 삶을 위해 노력하며 생활합니다. 서로에게 위로가...</td>\n",
       "    </tr>\n",
       "    <tr>\n",
       "      <th>3193</th>\n",
       "      <td>3193</td>\n",
       "      <td>남성</td>\n",
       "      <td>40대</td>\n",
       "      <td>o</td>\n",
       "      <td>안녕하세요~ 천안에 살고 있는 이해심, 배려심 많은 순수남입니다. 앞만 보고 달려오...</td>\n",
       "    </tr>\n",
       "    <tr>\n",
       "      <th>3194</th>\n",
       "      <td>3194</td>\n",
       "      <td>남성</td>\n",
       "      <td>40대</td>\n",
       "      <td>h</td>\n",
       "      <td>안녕하세요 평범한 남자 입니다 좋은 인연 되었으면 줗겠습니다 비흡연 이구요 친구같은...</td>\n",
       "    </tr>\n",
       "    <tr>\n",
       "      <th>3195</th>\n",
       "      <td>3195</td>\n",
       "      <td>남성</td>\n",
       "      <td>40대</td>\n",
       "      <td>b</td>\n",
       "      <td>이제 혼자가 이닌 남은 인생에동반자 같이할 나의님을 찿을수있을까?해서이곳에서 기다립...</td>\n",
       "    </tr>\n",
       "  </tbody>\n",
       "</table>\n",
       "<p>3196 rows × 5 columns</p>\n",
       "</div>"
      ],
      "text/plain": [
       "      user_id Sex  Age location  \\\n",
       "0           0  여성  40대        b   \n",
       "1           1  남성  40대        k   \n",
       "2           2  남성  30대        b   \n",
       "3           3  남성  40대        e   \n",
       "4           4  여성  20대        h   \n",
       "...       ...  ..  ...      ...   \n",
       "3191     3191  남성  40대        h   \n",
       "3192     3192  남성  50대        h   \n",
       "3193     3193  남성  40대        o   \n",
       "3194     3194  남성  40대        h   \n",
       "3195     3195  남성  40대        b   \n",
       "\n",
       "                                           Introduction  \n",
       "0     좋은 인연을 만나기가 참 힘드네요  서로 배려해주고 아껴주는  친구처럼 편안한 사람...  \n",
       "1     중소기업이지만 동일업계에서 인정받는 회사에 임원입니다.  안정적인 직장에 안정적인 ...  \n",
       "2     안녕하세요.  저는 부천 있는 중소기업 현장에서 근무하고 있습니다. 나이가 있는 관...  \n",
       "3            저는 개발자입니다. 저랑 남아있는 생을 행복하게 함께보낼 배우자를 찾습니다.  \n",
       "4                                    🌼🌻🌼   여자 입니다 🌻🌼🌻dd  \n",
       "...                                                 ...  \n",
       "3191  저는 이것저것? 장사를 하고 이 어려운 시기 잘? 버티고 있습니다ㅜㅜ 그쪽도 그런가...  \n",
       "3192  다정다감하며 늘 긍정적이며 후회없는 삶을 위해 노력하며 생활합니다. 서로에게 위로가...  \n",
       "3193  안녕하세요~ 천안에 살고 있는 이해심, 배려심 많은 순수남입니다. 앞만 보고 달려오...  \n",
       "3194  안녕하세요 평범한 남자 입니다 좋은 인연 되었으면 줗겠습니다 비흡연 이구요 친구같은...  \n",
       "3195  이제 혼자가 이닌 남은 인생에동반자 같이할 나의님을 찿을수있을까?해서이곳에서 기다립...  \n",
       "\n",
       "[3196 rows x 5 columns]"
      ]
     },
     "execution_count": 2,
     "metadata": {},
     "output_type": "execute_result"
    }
   ],
   "source": [
    "data = pd.read_csv('user_Introduction.csv')\n",
    "data"
   ]
  },
  {
   "cell_type": "code",
   "execution_count": 3,
   "id": "250a9b70",
   "metadata": {},
   "outputs": [],
   "source": [
    "df = data.copy()"
   ]
  },
  {
   "cell_type": "markdown",
   "id": "f949c1d9",
   "metadata": {},
   "source": [
    "## `2. 기본 전처리`\n",
    "\n",
    "- (1) 비어 있는 결측치 항목 제거\n",
    "- (2) 공백 '           ' 위와 같은 형태 제거\n",
    "- (3) 특수문자, 이모지 제거"
   ]
  },
  {
   "cell_type": "code",
   "execution_count": 4,
   "id": "9b5c0a6d",
   "metadata": {},
   "outputs": [],
   "source": [
    "import re"
   ]
  },
  {
   "cell_type": "code",
   "execution_count": 5,
   "id": "e78a8bc1",
   "metadata": {},
   "outputs": [],
   "source": [
    "def basic_preprocessing(df,col):\n",
    "    df.drop(df[df[col].isnull()].index, inplace=True)\n",
    "    df.reset_index(drop=True, inplace=True)\n",
    "    print('Isnull?', df[col].isnull().sum())\n",
    "    \n",
    "    # 공백 제거\n",
    "    df[col] = df[col].apply(lambda x: x.strip())\n",
    "    \n",
    "    # 특수문자, 단모음/단자음 제거\n",
    "    df[col] = df[col].apply(lambda x: re.sub(r'[\\n\\r]', '',x))\n",
    "    df[col] = df[col].apply(lambda x: re.sub('[ㄱ-ㅎㅏ-ㅣ]+','',x))\n",
    "    df[col] = df[col].apply(lambda x: re.sub('[a-zA-Z]','',x))\n",
    "    df[col] = df[col].apply(lambda x: re.sub('[-=+,#/\\?:^.@*\\\"※~ㆍ!』‘|\\(\\)\\[\\]`\\'…》\\”\\“\\’·]','',x))    \n",
    "    \n",
    "    # utf-8 encode\n",
    "    df[col] = df[col].apply(lambda x: x.encode('utf-8','ignore').decode('utf-8'))\n",
    "    \n",
    "    # 이모티콘 (이모지) 제거\n",
    "    def del_emoji (text):\n",
    "        only_BMP_pattern = re.compile(\"[\"\n",
    "        u\"\\U00010000-\\U0010FFFF\"  #BMP characters 이외\n",
    "                           \"]+\", flags=re.UNICODE)\n",
    "        return only_BMP_pattern.sub(r'', text)\n",
    "    \n",
    "    df[col] = df[col].apply(del_emoji)\n",
    "\n",
    "    return df"
   ]
  },
  {
   "cell_type": "code",
   "execution_count": 6,
   "id": "4369b337",
   "metadata": {},
   "outputs": [
    {
     "name": "stdout",
     "output_type": "stream",
     "text": [
      "Isnull? 0\n",
      "(3194, 5)\n"
     ]
    },
    {
     "data": {
      "text/html": [
       "<div>\n",
       "<style scoped>\n",
       "    .dataframe tbody tr th:only-of-type {\n",
       "        vertical-align: middle;\n",
       "    }\n",
       "\n",
       "    .dataframe tbody tr th {\n",
       "        vertical-align: top;\n",
       "    }\n",
       "\n",
       "    .dataframe thead th {\n",
       "        text-align: right;\n",
       "    }\n",
       "</style>\n",
       "<table border=\"1\" class=\"dataframe\">\n",
       "  <thead>\n",
       "    <tr style=\"text-align: right;\">\n",
       "      <th></th>\n",
       "      <th>user_id</th>\n",
       "      <th>Sex</th>\n",
       "      <th>Age</th>\n",
       "      <th>location</th>\n",
       "      <th>Introduction</th>\n",
       "    </tr>\n",
       "  </thead>\n",
       "  <tbody>\n",
       "    <tr>\n",
       "      <th>0</th>\n",
       "      <td>0</td>\n",
       "      <td>여성</td>\n",
       "      <td>40대</td>\n",
       "      <td>b</td>\n",
       "      <td>좋은 인연을 만나기가 참 힘드네요  서로 배려해주고 아껴주는  친구처럼 편안한 사람...</td>\n",
       "    </tr>\n",
       "    <tr>\n",
       "      <th>1</th>\n",
       "      <td>1</td>\n",
       "      <td>남성</td>\n",
       "      <td>40대</td>\n",
       "      <td>k</td>\n",
       "      <td>중소기업이지만 동일업계에서 인정받는 회사에 임원입니다  안정적인 직장에 안정적인 수...</td>\n",
       "    </tr>\n",
       "    <tr>\n",
       "      <th>2</th>\n",
       "      <td>2</td>\n",
       "      <td>남성</td>\n",
       "      <td>30대</td>\n",
       "      <td>b</td>\n",
       "      <td>안녕하세요  저는 부천 있는 중소기업 현장에서 근무하고 있습니다 나이가 있는 관계로...</td>\n",
       "    </tr>\n",
       "  </tbody>\n",
       "</table>\n",
       "</div>"
      ],
      "text/plain": [
       "   user_id Sex  Age location  \\\n",
       "0        0  여성  40대        b   \n",
       "1        1  남성  40대        k   \n",
       "2        2  남성  30대        b   \n",
       "\n",
       "                                        Introduction  \n",
       "0  좋은 인연을 만나기가 참 힘드네요  서로 배려해주고 아껴주는  친구처럼 편안한 사람...  \n",
       "1  중소기업이지만 동일업계에서 인정받는 회사에 임원입니다  안정적인 직장에 안정적인 수...  \n",
       "2  안녕하세요  저는 부천 있는 중소기업 현장에서 근무하고 있습니다 나이가 있는 관계로...  "
      ]
     },
     "execution_count": 6,
     "metadata": {},
     "output_type": "execute_result"
    }
   ],
   "source": [
    "pre_df = basic_preprocessing(df, 'Introduction')\n",
    "print(pre_df.shape)\n",
    "pre_df.head(3)"
   ]
  },
  {
   "cell_type": "code",
   "execution_count": 7,
   "id": "3cea3a35",
   "metadata": {},
   "outputs": [
    {
     "data": {
      "text/html": [
       "<div>\n",
       "<style scoped>\n",
       "    .dataframe tbody tr th:only-of-type {\n",
       "        vertical-align: middle;\n",
       "    }\n",
       "\n",
       "    .dataframe tbody tr th {\n",
       "        vertical-align: top;\n",
       "    }\n",
       "\n",
       "    .dataframe thead th {\n",
       "        text-align: right;\n",
       "    }\n",
       "</style>\n",
       "<table border=\"1\" class=\"dataframe\">\n",
       "  <thead>\n",
       "    <tr style=\"text-align: right;\">\n",
       "      <th></th>\n",
       "      <th>user_id</th>\n",
       "      <th>Sex</th>\n",
       "      <th>Age</th>\n",
       "      <th>location</th>\n",
       "      <th>Introduction</th>\n",
       "    </tr>\n",
       "  </thead>\n",
       "  <tbody>\n",
       "    <tr>\n",
       "      <th>130</th>\n",
       "      <td>130</td>\n",
       "      <td>여성</td>\n",
       "      <td>20대</td>\n",
       "      <td>h</td>\n",
       "      <td></td>\n",
       "    </tr>\n",
       "    <tr>\n",
       "      <th>185</th>\n",
       "      <td>186</td>\n",
       "      <td>남성</td>\n",
       "      <td>20대</td>\n",
       "      <td>h</td>\n",
       "      <td></td>\n",
       "    </tr>\n",
       "    <tr>\n",
       "      <th>250</th>\n",
       "      <td>251</td>\n",
       "      <td>남성</td>\n",
       "      <td>100대</td>\n",
       "      <td>f</td>\n",
       "      <td></td>\n",
       "    </tr>\n",
       "    <tr>\n",
       "      <th>1584</th>\n",
       "      <td>1586</td>\n",
       "      <td>남성</td>\n",
       "      <td>40대</td>\n",
       "      <td>k</td>\n",
       "      <td></td>\n",
       "    </tr>\n",
       "    <tr>\n",
       "      <th>2371</th>\n",
       "      <td>2373</td>\n",
       "      <td>여성</td>\n",
       "      <td>40대</td>\n",
       "      <td>k</td>\n",
       "      <td></td>\n",
       "    </tr>\n",
       "  </tbody>\n",
       "</table>\n",
       "</div>"
      ],
      "text/plain": [
       "      user_id Sex   Age location Introduction\n",
       "130       130  여성   20대        h             \n",
       "185       186  남성   20대        h             \n",
       "250       251  남성  100대        f             \n",
       "1584     1586  남성   40대        k             \n",
       "2371     2373  여성   40대        k             "
      ]
     },
     "metadata": {},
     "output_type": "display_data"
    },
    {
     "name": "stdout",
     "output_type": "stream",
     "text": [
      "3189\n"
     ]
    }
   ],
   "source": [
    "display(pre_df[pre_df['Introduction']==''])\n",
    "pre_df.drop(pre_df[pre_df['Introduction']==''].index,inplace=True)\n",
    "print(pre_df.shape[0])"
   ]
  },
  {
   "cell_type": "markdown",
   "id": "16cc3304",
   "metadata": {},
   "source": [
    "## `3. 라이브러리 별 Pos-tagging`"
   ]
  },
  {
   "cell_type": "markdown",
   "id": "4d7633ee",
   "metadata": {},
   "source": [
    "#### `Komoran 사용`\n",
    "\n",
    "    - pos 태깅에서 'NNG'만 사용\n",
    "    - 길이 단어 길이 2 이상 4 이하만 "
   ]
  },
  {
   "cell_type": "code",
   "execution_count": 8,
   "id": "8e1fe3c9",
   "metadata": {},
   "outputs": [],
   "source": [
    "from konlpy.tag import Komoran"
   ]
  },
  {
   "cell_type": "code",
   "execution_count": 9,
   "id": "72723533",
   "metadata": {},
   "outputs": [],
   "source": [
    "komoran = Komoran()"
   ]
  },
  {
   "cell_type": "code",
   "execution_count": 10,
   "id": "907093f9",
   "metadata": {},
   "outputs": [],
   "source": [
    "def komoran_tokenize(sent):\n",
    "    try:\n",
    "        words = komoran.pos(sent, join=True)\n",
    "        words = [w for w in words if ('/NNG' in w and (6<=len(w)<=9))]\n",
    "        words = [w.split('/')[0] for w in words]\n",
    "        \n",
    "    except :\n",
    "        sent = 'error'\n",
    "        words = sent\n",
    "    return words"
   ]
  },
  {
   "cell_type": "code",
   "execution_count": 11,
   "id": "5ea638c7",
   "metadata": {},
   "outputs": [
    {
     "name": "stdout",
     "output_type": "stream",
     "text": [
      "CPU times: user 10.9 s, sys: 74.3 ms, total: 11 s\n",
      "Wall time: 3.86 s\n"
     ]
    },
    {
     "data": {
      "text/html": [
       "<div>\n",
       "<style scoped>\n",
       "    .dataframe tbody tr th:only-of-type {\n",
       "        vertical-align: middle;\n",
       "    }\n",
       "\n",
       "    .dataframe tbody tr th {\n",
       "        vertical-align: top;\n",
       "    }\n",
       "\n",
       "    .dataframe thead th {\n",
       "        text-align: right;\n",
       "    }\n",
       "</style>\n",
       "<table border=\"1\" class=\"dataframe\">\n",
       "  <thead>\n",
       "    <tr style=\"text-align: right;\">\n",
       "      <th></th>\n",
       "      <th>user_id</th>\n",
       "      <th>Sex</th>\n",
       "      <th>Age</th>\n",
       "      <th>location</th>\n",
       "      <th>Introduction</th>\n",
       "      <th>Komoran</th>\n",
       "    </tr>\n",
       "  </thead>\n",
       "  <tbody>\n",
       "    <tr>\n",
       "      <th>0</th>\n",
       "      <td>0</td>\n",
       "      <td>여성</td>\n",
       "      <td>40대</td>\n",
       "      <td>b</td>\n",
       "      <td>좋은 인연을 만나기가 참 힘드네요  서로 배려해주고 아껴주는  친구처럼 편안한 사람...</td>\n",
       "      <td>[인연, 배려, 친구, 편안, 사람, 사람, 노력]</td>\n",
       "    </tr>\n",
       "    <tr>\n",
       "      <th>1</th>\n",
       "      <td>1</td>\n",
       "      <td>남성</td>\n",
       "      <td>40대</td>\n",
       "      <td>k</td>\n",
       "      <td>중소기업이지만 동일업계에서 인정받는 회사에 임원입니다  안정적인 직장에 안정적인 수...</td>\n",
       "      <td>[중소기업, 동일, 업계, 회사, 임원, 안정, 직장, 안정, 수입, 회사, 직원,...</td>\n",
       "    </tr>\n",
       "    <tr>\n",
       "      <th>2</th>\n",
       "      <td>2</td>\n",
       "      <td>남성</td>\n",
       "      <td>30대</td>\n",
       "      <td>b</td>\n",
       "      <td>안녕하세요  저는 부천 있는 중소기업 현장에서 근무하고 있습니다 나이가 있는 관계로...</td>\n",
       "      <td>[중소기업, 현장, 근무, 나이, 관계, 장난, 올해, 사람, 연애, 결혼]</td>\n",
       "    </tr>\n",
       "  </tbody>\n",
       "</table>\n",
       "</div>"
      ],
      "text/plain": [
       "   user_id Sex  Age location  \\\n",
       "0        0  여성  40대        b   \n",
       "1        1  남성  40대        k   \n",
       "2        2  남성  30대        b   \n",
       "\n",
       "                                        Introduction  \\\n",
       "0  좋은 인연을 만나기가 참 힘드네요  서로 배려해주고 아껴주는  친구처럼 편안한 사람...   \n",
       "1  중소기업이지만 동일업계에서 인정받는 회사에 임원입니다  안정적인 직장에 안정적인 수...   \n",
       "2  안녕하세요  저는 부천 있는 중소기업 현장에서 근무하고 있습니다 나이가 있는 관계로...   \n",
       "\n",
       "                                             Komoran  \n",
       "0                       [인연, 배려, 친구, 편안, 사람, 사람, 노력]  \n",
       "1  [중소기업, 동일, 업계, 회사, 임원, 안정, 직장, 안정, 수입, 회사, 직원,...  \n",
       "2         [중소기업, 현장, 근무, 나이, 관계, 장난, 올해, 사람, 연애, 결혼]  "
      ]
     },
     "execution_count": 11,
     "metadata": {},
     "output_type": "execute_result"
    }
   ],
   "source": [
    "%%time\n",
    "\n",
    "pre_df['Komoran'] = pre_df['Introduction'].apply(komoran_tokenize)\n",
    "pre_df.head(3)"
   ]
  },
  {
   "cell_type": "code",
   "execution_count": 12,
   "id": "71edeb2f",
   "metadata": {},
   "outputs": [
    {
     "data": {
      "text/plain": [
       "Int64Index([47, 122, 348, 971], dtype='int64')"
      ]
     },
     "execution_count": 12,
     "metadata": {},
     "output_type": "execute_result"
    }
   ],
   "source": [
    "pre_df[pre_df['Komoran']=='error'].index"
   ]
  },
  {
   "cell_type": "code",
   "execution_count": 13,
   "id": "c1ae7843",
   "metadata": {},
   "outputs": [
    {
     "data": {
      "text/html": [
       "<div>\n",
       "<style scoped>\n",
       "    .dataframe tbody tr th:only-of-type {\n",
       "        vertical-align: middle;\n",
       "    }\n",
       "\n",
       "    .dataframe tbody tr th {\n",
       "        vertical-align: top;\n",
       "    }\n",
       "\n",
       "    .dataframe thead th {\n",
       "        text-align: right;\n",
       "    }\n",
       "</style>\n",
       "<table border=\"1\" class=\"dataframe\">\n",
       "  <thead>\n",
       "    <tr style=\"text-align: right;\">\n",
       "      <th></th>\n",
       "      <th>user_id</th>\n",
       "      <th>Sex</th>\n",
       "      <th>Age</th>\n",
       "      <th>location</th>\n",
       "      <th>Introduction</th>\n",
       "      <th>Komoran</th>\n",
       "    </tr>\n",
       "  </thead>\n",
       "  <tbody>\n",
       "    <tr>\n",
       "      <th>47</th>\n",
       "      <td>47</td>\n",
       "      <td>남성</td>\n",
       "      <td>20대</td>\n",
       "      <td>i</td>\n",
       "      <td></td>\n",
       "      <td>error</td>\n",
       "    </tr>\n",
       "    <tr>\n",
       "      <th>122</th>\n",
       "      <td>122</td>\n",
       "      <td>남성</td>\n",
       "      <td>30대</td>\n",
       "      <td>k</td>\n",
       "      <td></td>\n",
       "      <td>error</td>\n",
       "    </tr>\n",
       "    <tr>\n",
       "      <th>351</th>\n",
       "      <td>352</td>\n",
       "      <td>남성</td>\n",
       "      <td>40대</td>\n",
       "      <td>i</td>\n",
       "      <td>안녕하세요 원료의약품을 취급하는 강소기업에서 현재 17년 재직하고 있구요 회사에서 ...</td>\n",
       "      <td>[원료, 취급, 기업, 재직, 회사, 성실, 근무, 건강, 남자, 결혼, 전제, 만...</td>\n",
       "    </tr>\n",
       "    <tr>\n",
       "      <th>974</th>\n",
       "      <td>976</td>\n",
       "      <td>여성</td>\n",
       "      <td>40대</td>\n",
       "      <td>i</td>\n",
       "      <td>혹시 모를 좋은 인연이있기를 기도해요 대인관계에있어서 대화배려바른인성과지혜로 노력하...</td>\n",
       "      <td>[인연, 기도, 대화, 배려, 노력, 경제, 여유, 인생, 의절, 반려자, 운동, ...</td>\n",
       "    </tr>\n",
       "  </tbody>\n",
       "</table>\n",
       "</div>"
      ],
      "text/plain": [
       "     user_id Sex  Age location  \\\n",
       "47        47  남성  20대        i   \n",
       "122      122  남성  30대        k   \n",
       "351      352  남성  40대        i   \n",
       "974      976  여성  40대        i   \n",
       "\n",
       "                                          Introduction  \\\n",
       "47                                                       \n",
       "122                                                      \n",
       "351  안녕하세요 원료의약품을 취급하는 강소기업에서 현재 17년 재직하고 있구요 회사에서 ...   \n",
       "974  혹시 모를 좋은 인연이있기를 기도해요 대인관계에있어서 대화배려바른인성과지혜로 노력하...   \n",
       "\n",
       "                                               Komoran  \n",
       "47                                               error  \n",
       "122                                              error  \n",
       "351  [원료, 취급, 기업, 재직, 회사, 성실, 근무, 건강, 남자, 결혼, 전제, 만...  \n",
       "974  [인연, 기도, 대화, 배려, 노력, 경제, 여유, 인생, 의절, 반려자, 운동, ...  "
      ]
     },
     "execution_count": 13,
     "metadata": {},
     "output_type": "execute_result"
    }
   ],
   "source": [
    "pre_df.iloc[pre_df[pre_df['Komoran']=='error'].index]"
   ]
  },
  {
   "cell_type": "markdown",
   "id": "04c9f835",
   "metadata": {},
   "source": [
    "#### `Hannanum 사용`\n",
    "\n",
    "    - pos 태깅에서 'N'만 사용\n",
    "    - 길이 단어 길이 2 이상 4 이하만"
   ]
  },
  {
   "cell_type": "code",
   "execution_count": 14,
   "id": "ace2ed19",
   "metadata": {},
   "outputs": [],
   "source": [
    "from konlpy.tag import Hannanum"
   ]
  },
  {
   "cell_type": "code",
   "execution_count": 15,
   "id": "81105b40",
   "metadata": {},
   "outputs": [],
   "source": [
    "hannanum = Hannanum()"
   ]
  },
  {
   "cell_type": "code",
   "execution_count": 16,
   "id": "f73ee2fc",
   "metadata": {},
   "outputs": [],
   "source": [
    "def hannanum_tokenize(sent):\n",
    "    try:\n",
    "        words = hannanum.nouns(sent)\n",
    "        words = [w for w in words if 2<=len(w)<=4]\n",
    "        \n",
    "    except :\n",
    "        sent = 'error'\n",
    "        words = sent\n",
    "    return words"
   ]
  },
  {
   "cell_type": "code",
   "execution_count": 17,
   "id": "74530507",
   "metadata": {},
   "outputs": [],
   "source": [
    "# %%time\n",
    "\n",
    "# pre_df['Hannanum'] = pre_df['Introduction'].apply(lambda x: hannanum.nouns(x))\n",
    "# pre_df.head(3)"
   ]
  },
  {
   "cell_type": "markdown",
   "id": "1843cafe",
   "metadata": {},
   "source": [
    "#### `Kkma 사용`\n",
    "\n",
    "    - pos 태깅에서 'NNG'만 사용\n",
    "    - 길이 단어 길이 2 이상 4 이하만"
   ]
  },
  {
   "cell_type": "code",
   "execution_count": 18,
   "id": "7bc28e8b",
   "metadata": {},
   "outputs": [],
   "source": [
    "from konlpy.tag import Kkma\n",
    "\n",
    "kkma = Kkma()"
   ]
  },
  {
   "cell_type": "code",
   "execution_count": 19,
   "id": "43bf3f20",
   "metadata": {},
   "outputs": [],
   "source": [
    "def kkma_tokenize(sent):\n",
    "    try:\n",
    "        words = kkma.pos(sent, join=True)\n",
    "        words = [w for w in words if ('/NNG' in w and (6<=len(w)<=9))]\n",
    "        words = [w.split('/')[0] for w in words]\n",
    "        \n",
    "    except :\n",
    "        sent = 'error'\n",
    "        words = sent\n",
    "    return words"
   ]
  },
  {
   "cell_type": "code",
   "execution_count": 20,
   "id": "79c3472d",
   "metadata": {},
   "outputs": [
    {
     "name": "stdout",
     "output_type": "stream",
     "text": [
      "CPU times: user 14min 42s, sys: 783 ms, total: 14min 42s\n",
      "Wall time: 6min 39s\n"
     ]
    },
    {
     "data": {
      "text/html": [
       "<div>\n",
       "<style scoped>\n",
       "    .dataframe tbody tr th:only-of-type {\n",
       "        vertical-align: middle;\n",
       "    }\n",
       "\n",
       "    .dataframe tbody tr th {\n",
       "        vertical-align: top;\n",
       "    }\n",
       "\n",
       "    .dataframe thead th {\n",
       "        text-align: right;\n",
       "    }\n",
       "</style>\n",
       "<table border=\"1\" class=\"dataframe\">\n",
       "  <thead>\n",
       "    <tr style=\"text-align: right;\">\n",
       "      <th></th>\n",
       "      <th>user_id</th>\n",
       "      <th>Sex</th>\n",
       "      <th>Age</th>\n",
       "      <th>location</th>\n",
       "      <th>Introduction</th>\n",
       "      <th>Komoran</th>\n",
       "      <th>kkma</th>\n",
       "    </tr>\n",
       "  </thead>\n",
       "  <tbody>\n",
       "    <tr>\n",
       "      <th>0</th>\n",
       "      <td>0</td>\n",
       "      <td>여성</td>\n",
       "      <td>40대</td>\n",
       "      <td>b</td>\n",
       "      <td>좋은 인연을 만나기가 참 힘드네요  서로 배려해주고 아껴주는  친구처럼 편안한 사람...</td>\n",
       "      <td>[인연, 배려, 친구, 편안, 사람, 사람, 노력]</td>\n",
       "      <td>[인연, 배려, 친구, 편안, 사람, 사람, 노력]</td>\n",
       "    </tr>\n",
       "    <tr>\n",
       "      <th>1</th>\n",
       "      <td>1</td>\n",
       "      <td>남성</td>\n",
       "      <td>40대</td>\n",
       "      <td>k</td>\n",
       "      <td>중소기업이지만 동일업계에서 인정받는 회사에 임원입니다  안정적인 직장에 안정적인 수...</td>\n",
       "      <td>[중소기업, 동일, 업계, 회사, 임원, 안정, 직장, 안정, 수입, 회사, 직원,...</td>\n",
       "      <td>[중소기업, 동일, 업계, 회사, 임원, 안정적, 직장, 안정적, 수입, 회사, 발...</td>\n",
       "    </tr>\n",
       "    <tr>\n",
       "      <th>2</th>\n",
       "      <td>2</td>\n",
       "      <td>남성</td>\n",
       "      <td>30대</td>\n",
       "      <td>b</td>\n",
       "      <td>안녕하세요  저는 부천 있는 중소기업 현장에서 근무하고 있습니다 나이가 있는 관계로...</td>\n",
       "      <td>[중소기업, 현장, 근무, 나이, 관계, 장난, 올해, 사람, 연애, 결혼]</td>\n",
       "      <td>[안녕, 부천, 중소기업, 현장, 근무, 나이, 관계, 장난, 넉살, 올해, 사람,...</td>\n",
       "    </tr>\n",
       "  </tbody>\n",
       "</table>\n",
       "</div>"
      ],
      "text/plain": [
       "   user_id Sex  Age location  \\\n",
       "0        0  여성  40대        b   \n",
       "1        1  남성  40대        k   \n",
       "2        2  남성  30대        b   \n",
       "\n",
       "                                        Introduction  \\\n",
       "0  좋은 인연을 만나기가 참 힘드네요  서로 배려해주고 아껴주는  친구처럼 편안한 사람...   \n",
       "1  중소기업이지만 동일업계에서 인정받는 회사에 임원입니다  안정적인 직장에 안정적인 수...   \n",
       "2  안녕하세요  저는 부천 있는 중소기업 현장에서 근무하고 있습니다 나이가 있는 관계로...   \n",
       "\n",
       "                                             Komoran  \\\n",
       "0                       [인연, 배려, 친구, 편안, 사람, 사람, 노력]   \n",
       "1  [중소기업, 동일, 업계, 회사, 임원, 안정, 직장, 안정, 수입, 회사, 직원,...   \n",
       "2         [중소기업, 현장, 근무, 나이, 관계, 장난, 올해, 사람, 연애, 결혼]   \n",
       "\n",
       "                                                kkma  \n",
       "0                       [인연, 배려, 친구, 편안, 사람, 사람, 노력]  \n",
       "1  [중소기업, 동일, 업계, 회사, 임원, 안정적, 직장, 안정적, 수입, 회사, 발...  \n",
       "2  [안녕, 부천, 중소기업, 현장, 근무, 나이, 관계, 장난, 넉살, 올해, 사람,...  "
      ]
     },
     "execution_count": 20,
     "metadata": {},
     "output_type": "execute_result"
    }
   ],
   "source": [
    "%%time\n",
    "\n",
    "pre_df['kkma'] = pre_df['Introduction'].apply(kkma_tokenize)\n",
    "pre_df.head(3)"
   ]
  },
  {
   "cell_type": "markdown",
   "id": "a707743b",
   "metadata": {},
   "source": [
    "#### `Mecab 사용`\n",
    "\n",
    "    - pos 태깅에서 'NNG'만 사용\n",
    "    - 길이 단어 길이 2 이상 4 이하만"
   ]
  },
  {
   "cell_type": "code",
   "execution_count": 21,
   "id": "839354a6",
   "metadata": {},
   "outputs": [],
   "source": [
    "from konlpy.tag import Mecab "
   ]
  },
  {
   "cell_type": "code",
   "execution_count": 22,
   "id": "bd15ca8e",
   "metadata": {
    "scrolled": true
   },
   "outputs": [],
   "source": [
    "mecab = Mecab()"
   ]
  },
  {
   "cell_type": "code",
   "execution_count": 23,
   "id": "b4d518d8",
   "metadata": {},
   "outputs": [],
   "source": [
    "def mecab_tokenize(sent):\n",
    "    try:\n",
    "        pos = mecab.pos(sent)\n",
    "        words = [n for n,tag in pos if tag in ['NNG'] if 2<=len(n)<=4]\n",
    "        \n",
    "    except :\n",
    "        sent = 'error'\n",
    "        words = sent\n",
    "    return words"
   ]
  },
  {
   "cell_type": "code",
   "execution_count": 24,
   "id": "7ede8d94",
   "metadata": {},
   "outputs": [
    {
     "name": "stdout",
     "output_type": "stream",
     "text": [
      "CPU times: user 377 ms, sys: 1e+03 ns, total: 377 ms\n",
      "Wall time: 408 ms\n"
     ]
    },
    {
     "data": {
      "text/html": [
       "<div>\n",
       "<style scoped>\n",
       "    .dataframe tbody tr th:only-of-type {\n",
       "        vertical-align: middle;\n",
       "    }\n",
       "\n",
       "    .dataframe tbody tr th {\n",
       "        vertical-align: top;\n",
       "    }\n",
       "\n",
       "    .dataframe thead th {\n",
       "        text-align: right;\n",
       "    }\n",
       "</style>\n",
       "<table border=\"1\" class=\"dataframe\">\n",
       "  <thead>\n",
       "    <tr style=\"text-align: right;\">\n",
       "      <th></th>\n",
       "      <th>user_id</th>\n",
       "      <th>Sex</th>\n",
       "      <th>Age</th>\n",
       "      <th>location</th>\n",
       "      <th>Introduction</th>\n",
       "      <th>Komoran</th>\n",
       "      <th>kkma</th>\n",
       "      <th>mecab</th>\n",
       "    </tr>\n",
       "  </thead>\n",
       "  <tbody>\n",
       "    <tr>\n",
       "      <th>0</th>\n",
       "      <td>0</td>\n",
       "      <td>여성</td>\n",
       "      <td>40대</td>\n",
       "      <td>b</td>\n",
       "      <td>좋은 인연을 만나기가 참 힘드네요  서로 배려해주고 아껴주는  친구처럼 편안한 사람...</td>\n",
       "      <td>[인연, 배려, 친구, 편안, 사람, 사람, 노력]</td>\n",
       "      <td>[인연, 배려, 친구, 편안, 사람, 사람, 노력]</td>\n",
       "      <td>[인연, 배려, 친구, 편안, 사람, 사람, 노력]</td>\n",
       "    </tr>\n",
       "    <tr>\n",
       "      <th>1</th>\n",
       "      <td>1</td>\n",
       "      <td>남성</td>\n",
       "      <td>40대</td>\n",
       "      <td>k</td>\n",
       "      <td>중소기업이지만 동일업계에서 인정받는 회사에 임원입니다  안정적인 직장에 안정적인 수...</td>\n",
       "      <td>[중소기업, 동일, 업계, 회사, 임원, 안정, 직장, 안정, 수입, 회사, 직원,...</td>\n",
       "      <td>[중소기업, 동일, 업계, 회사, 임원, 안정적, 직장, 안정적, 수입, 회사, 발...</td>\n",
       "      <td>[중소기업, 동일, 업계, 회사, 임원, 안정, 직장, 안정, 수입, 회사, 발주,...</td>\n",
       "    </tr>\n",
       "    <tr>\n",
       "      <th>2</th>\n",
       "      <td>2</td>\n",
       "      <td>남성</td>\n",
       "      <td>30대</td>\n",
       "      <td>b</td>\n",
       "      <td>안녕하세요  저는 부천 있는 중소기업 현장에서 근무하고 있습니다 나이가 있는 관계로...</td>\n",
       "      <td>[중소기업, 현장, 근무, 나이, 관계, 장난, 올해, 사람, 연애, 결혼]</td>\n",
       "      <td>[안녕, 부천, 중소기업, 현장, 근무, 나이, 관계, 장난, 넉살, 올해, 사람,...</td>\n",
       "      <td>[안녕, 중소기업, 현장, 근무, 나이, 관계, 장난, 올해, 사람, 연애, 연애,...</td>\n",
       "    </tr>\n",
       "  </tbody>\n",
       "</table>\n",
       "</div>"
      ],
      "text/plain": [
       "   user_id Sex  Age location  \\\n",
       "0        0  여성  40대        b   \n",
       "1        1  남성  40대        k   \n",
       "2        2  남성  30대        b   \n",
       "\n",
       "                                        Introduction  \\\n",
       "0  좋은 인연을 만나기가 참 힘드네요  서로 배려해주고 아껴주는  친구처럼 편안한 사람...   \n",
       "1  중소기업이지만 동일업계에서 인정받는 회사에 임원입니다  안정적인 직장에 안정적인 수...   \n",
       "2  안녕하세요  저는 부천 있는 중소기업 현장에서 근무하고 있습니다 나이가 있는 관계로...   \n",
       "\n",
       "                                             Komoran  \\\n",
       "0                       [인연, 배려, 친구, 편안, 사람, 사람, 노력]   \n",
       "1  [중소기업, 동일, 업계, 회사, 임원, 안정, 직장, 안정, 수입, 회사, 직원,...   \n",
       "2         [중소기업, 현장, 근무, 나이, 관계, 장난, 올해, 사람, 연애, 결혼]   \n",
       "\n",
       "                                                kkma  \\\n",
       "0                       [인연, 배려, 친구, 편안, 사람, 사람, 노력]   \n",
       "1  [중소기업, 동일, 업계, 회사, 임원, 안정적, 직장, 안정적, 수입, 회사, 발...   \n",
       "2  [안녕, 부천, 중소기업, 현장, 근무, 나이, 관계, 장난, 넉살, 올해, 사람,...   \n",
       "\n",
       "                                               mecab  \n",
       "0                       [인연, 배려, 친구, 편안, 사람, 사람, 노력]  \n",
       "1  [중소기업, 동일, 업계, 회사, 임원, 안정, 직장, 안정, 수입, 회사, 발주,...  \n",
       "2  [안녕, 중소기업, 현장, 근무, 나이, 관계, 장난, 올해, 사람, 연애, 연애,...  "
      ]
     },
     "execution_count": 24,
     "metadata": {},
     "output_type": "execute_result"
    }
   ],
   "source": [
    "%%time\n",
    "\n",
    "df['mecab'] = df['Introduction'].apply(mecab_tokenize)\n",
    "df.head(3)"
   ]
  },
  {
   "cell_type": "markdown",
   "id": "d63214d4",
   "metadata": {},
   "source": [
    "#### `Okt 사용`\n",
    "\n",
    "    - pos 태깅에서 'NNG'만 사용\n",
    "    - 길이 단어 길이 2 이상 4 이하만"
   ]
  },
  {
   "cell_type": "code",
   "execution_count": 25,
   "id": "c6d92b25",
   "metadata": {},
   "outputs": [],
   "source": [
    "from konlpy.tag import Okt\n",
    "\n",
    "okt = Okt()"
   ]
  },
  {
   "cell_type": "code",
   "execution_count": 26,
   "id": "37076da3",
   "metadata": {},
   "outputs": [],
   "source": [
    "def okt_tokenize(sent):\n",
    "    try:\n",
    "        words = okt.pos(sent, join=True)\n",
    "        words = [w for w in words if ('/Noun' in w and (7<=len(w)<=9))]\n",
    "        words = [w.split('/')[0] for w in words]\n",
    "        \n",
    "    except :\n",
    "        sent = 'error'\n",
    "        words = sent\n",
    "    return words"
   ]
  },
  {
   "cell_type": "code",
   "execution_count": 27,
   "id": "a2d773fe",
   "metadata": {},
   "outputs": [
    {
     "name": "stdout",
     "output_type": "stream",
     "text": [
      "CPU times: user 48.5 s, sys: 104 ms, total: 48.6 s\n",
      "Wall time: 23.7 s\n"
     ]
    },
    {
     "data": {
      "text/html": [
       "<div>\n",
       "<style scoped>\n",
       "    .dataframe tbody tr th:only-of-type {\n",
       "        vertical-align: middle;\n",
       "    }\n",
       "\n",
       "    .dataframe tbody tr th {\n",
       "        vertical-align: top;\n",
       "    }\n",
       "\n",
       "    .dataframe thead th {\n",
       "        text-align: right;\n",
       "    }\n",
       "</style>\n",
       "<table border=\"1\" class=\"dataframe\">\n",
       "  <thead>\n",
       "    <tr style=\"text-align: right;\">\n",
       "      <th></th>\n",
       "      <th>user_id</th>\n",
       "      <th>Sex</th>\n",
       "      <th>Age</th>\n",
       "      <th>location</th>\n",
       "      <th>Introduction</th>\n",
       "      <th>Komoran</th>\n",
       "      <th>kkma</th>\n",
       "      <th>mecab</th>\n",
       "      <th>okt</th>\n",
       "    </tr>\n",
       "  </thead>\n",
       "  <tbody>\n",
       "    <tr>\n",
       "      <th>0</th>\n",
       "      <td>0</td>\n",
       "      <td>여성</td>\n",
       "      <td>40대</td>\n",
       "      <td>b</td>\n",
       "      <td>좋은 인연을 만나기가 참 힘드네요  서로 배려해주고 아껴주는  친구처럼 편안한 사람...</td>\n",
       "      <td>[인연, 배려, 친구, 편안, 사람, 사람, 노력]</td>\n",
       "      <td>[인연, 배려, 친구, 편안, 사람, 사람, 노력]</td>\n",
       "      <td>[인연, 배려, 친구, 편안, 사람, 사람, 노력]</td>\n",
       "      <td>[인연, 서로, 배려, 친구, 사람, 사람, 노력]</td>\n",
       "    </tr>\n",
       "    <tr>\n",
       "      <th>1</th>\n",
       "      <td>1</td>\n",
       "      <td>남성</td>\n",
       "      <td>40대</td>\n",
       "      <td>k</td>\n",
       "      <td>중소기업이지만 동일업계에서 인정받는 회사에 임원입니다  안정적인 직장에 안정적인 수...</td>\n",
       "      <td>[중소기업, 동일, 업계, 회사, 임원, 안정, 직장, 안정, 수입, 회사, 직원,...</td>\n",
       "      <td>[중소기업, 동일, 업계, 회사, 임원, 안정적, 직장, 안정적, 수입, 회사, 발...</td>\n",
       "      <td>[중소기업, 동일, 업계, 회사, 임원, 안정, 직장, 안정, 수입, 회사, 발주,...</td>\n",
       "      <td>[중소기업, 업계, 회사, 임원, 안정, 직장, 안정, 수입, 회사, 발주, 직원,...</td>\n",
       "    </tr>\n",
       "    <tr>\n",
       "      <th>2</th>\n",
       "      <td>2</td>\n",
       "      <td>남성</td>\n",
       "      <td>30대</td>\n",
       "      <td>b</td>\n",
       "      <td>안녕하세요  저는 부천 있는 중소기업 현장에서 근무하고 있습니다 나이가 있는 관계로...</td>\n",
       "      <td>[중소기업, 현장, 근무, 나이, 관계, 장난, 올해, 사람, 연애, 결혼]</td>\n",
       "      <td>[안녕, 부천, 중소기업, 현장, 근무, 나이, 관계, 장난, 넉살, 올해, 사람,...</td>\n",
       "      <td>[안녕, 중소기업, 현장, 근무, 나이, 관계, 장난, 올해, 사람, 연애, 연애,...</td>\n",
       "      <td>[부천, 중소기업, 현장, 근무, 나이, 관계, 장난, 보고, 올해, 사람, 알콩달...</td>\n",
       "    </tr>\n",
       "  </tbody>\n",
       "</table>\n",
       "</div>"
      ],
      "text/plain": [
       "   user_id Sex  Age location  \\\n",
       "0        0  여성  40대        b   \n",
       "1        1  남성  40대        k   \n",
       "2        2  남성  30대        b   \n",
       "\n",
       "                                        Introduction  \\\n",
       "0  좋은 인연을 만나기가 참 힘드네요  서로 배려해주고 아껴주는  친구처럼 편안한 사람...   \n",
       "1  중소기업이지만 동일업계에서 인정받는 회사에 임원입니다  안정적인 직장에 안정적인 수...   \n",
       "2  안녕하세요  저는 부천 있는 중소기업 현장에서 근무하고 있습니다 나이가 있는 관계로...   \n",
       "\n",
       "                                             Komoran  \\\n",
       "0                       [인연, 배려, 친구, 편안, 사람, 사람, 노력]   \n",
       "1  [중소기업, 동일, 업계, 회사, 임원, 안정, 직장, 안정, 수입, 회사, 직원,...   \n",
       "2         [중소기업, 현장, 근무, 나이, 관계, 장난, 올해, 사람, 연애, 결혼]   \n",
       "\n",
       "                                                kkma  \\\n",
       "0                       [인연, 배려, 친구, 편안, 사람, 사람, 노력]   \n",
       "1  [중소기업, 동일, 업계, 회사, 임원, 안정적, 직장, 안정적, 수입, 회사, 발...   \n",
       "2  [안녕, 부천, 중소기업, 현장, 근무, 나이, 관계, 장난, 넉살, 올해, 사람,...   \n",
       "\n",
       "                                               mecab  \\\n",
       "0                       [인연, 배려, 친구, 편안, 사람, 사람, 노력]   \n",
       "1  [중소기업, 동일, 업계, 회사, 임원, 안정, 직장, 안정, 수입, 회사, 발주,...   \n",
       "2  [안녕, 중소기업, 현장, 근무, 나이, 관계, 장난, 올해, 사람, 연애, 연애,...   \n",
       "\n",
       "                                                 okt  \n",
       "0                       [인연, 서로, 배려, 친구, 사람, 사람, 노력]  \n",
       "1  [중소기업, 업계, 회사, 임원, 안정, 직장, 안정, 수입, 회사, 발주, 직원,...  \n",
       "2  [부천, 중소기업, 현장, 근무, 나이, 관계, 장난, 보고, 올해, 사람, 알콩달...  "
      ]
     },
     "execution_count": 27,
     "metadata": {},
     "output_type": "execute_result"
    }
   ],
   "source": [
    "%%time\n",
    "\n",
    "pre_df['okt'] = pre_df['Introduction'].apply(okt_tokenize)\n",
    "pre_df.head(3)\n"
   ]
  },
  {
   "cell_type": "code",
   "execution_count": null,
   "id": "e5d82b89",
   "metadata": {},
   "outputs": [],
   "source": []
  },
  {
   "cell_type": "markdown",
   "id": "99a6b540",
   "metadata": {},
   "source": [
    "## 4. `pos tagging 결과 비교`"
   ]
  },
  {
   "cell_type": "code",
   "execution_count": 30,
   "id": "f1c0aa66",
   "metadata": {},
   "outputs": [
    {
     "name": "stdout",
     "output_type": "stream",
     "text": [
      "4\n",
      "5\n",
      "0\n",
      "0\n"
     ]
    }
   ],
   "source": [
    "print(pre_df[pre_df['Komoran']=='error'].shape[0])\n",
    "print(pre_df[pre_df['kkma']=='error'].shape[0])\n",
    "print(pre_df[pre_df['mecab']=='error'].shape[0])\n",
    "print(pre_df[pre_df['okt']=='error'].shape[0])"
   ]
  },
  {
   "cell_type": "code",
   "execution_count": 31,
   "id": "64ae125c",
   "metadata": {},
   "outputs": [
    {
     "name": "stdout",
     "output_type": "stream",
     "text": [
      "95\n",
      "10\n",
      "16\n",
      "20\n"
     ]
    }
   ],
   "source": [
    "print(pre_df['Komoran'].apply(lambda x: x ==[]).sum())\n",
    "print(pre_df['kkma'].apply(lambda x: x ==[]).sum())\n",
    "print(pre_df['mecab'].apply(lambda x: x ==[]).sum())\n",
    "print(pre_df['okt'].apply(lambda x: x ==[]).sum())"
   ]
  },
  {
   "cell_type": "code",
   "execution_count": null,
   "id": "9103cefe",
   "metadata": {},
   "outputs": [],
   "source": []
  },
  {
   "cell_type": "code",
   "execution_count": null,
   "id": "f86843db",
   "metadata": {},
   "outputs": [],
   "source": []
  },
  {
   "cell_type": "markdown",
   "id": "e46c9fc2",
   "metadata": {},
   "source": [
    "## 5. 결과"
   ]
  },
  {
   "cell_type": "code",
   "execution_count": 33,
   "id": "5c115e3b",
   "metadata": {},
   "outputs": [
    {
     "data": {
      "text/html": [
       "<div>\n",
       "<style scoped>\n",
       "    .dataframe tbody tr th:only-of-type {\n",
       "        vertical-align: middle;\n",
       "    }\n",
       "\n",
       "    .dataframe tbody tr th {\n",
       "        vertical-align: top;\n",
       "    }\n",
       "\n",
       "    .dataframe thead th {\n",
       "        text-align: right;\n",
       "    }\n",
       "</style>\n",
       "<table border=\"1\" class=\"dataframe\">\n",
       "  <thead>\n",
       "    <tr style=\"text-align: right;\">\n",
       "      <th></th>\n",
       "      <th>user_id</th>\n",
       "      <th>Sex</th>\n",
       "      <th>Age</th>\n",
       "      <th>location</th>\n",
       "      <th>Introduction</th>\n",
       "      <th>Komoran</th>\n",
       "      <th>kkma</th>\n",
       "      <th>mecab</th>\n",
       "      <th>okt</th>\n",
       "    </tr>\n",
       "  </thead>\n",
       "  <tbody>\n",
       "    <tr>\n",
       "      <th>0</th>\n",
       "      <td>0</td>\n",
       "      <td>여성</td>\n",
       "      <td>40대</td>\n",
       "      <td>b</td>\n",
       "      <td>좋은 인연을 만나기가 참 힘드네요  서로 배려해주고 아껴주는  친구처럼 편안한 사람...</td>\n",
       "      <td>[인연, 배려, 친구, 편안, 사람, 사람, 노력]</td>\n",
       "      <td>[인연, 배려, 친구, 편안, 사람, 사람, 노력]</td>\n",
       "      <td>[인연, 배려, 친구, 편안, 사람, 사람, 노력]</td>\n",
       "      <td>[인연, 서로, 배려, 친구, 사람, 사람, 노력]</td>\n",
       "    </tr>\n",
       "    <tr>\n",
       "      <th>1</th>\n",
       "      <td>1</td>\n",
       "      <td>남성</td>\n",
       "      <td>40대</td>\n",
       "      <td>k</td>\n",
       "      <td>중소기업이지만 동일업계에서 인정받는 회사에 임원입니다  안정적인 직장에 안정적인 수...</td>\n",
       "      <td>[중소기업, 동일, 업계, 회사, 임원, 안정, 직장, 안정, 수입, 회사, 직원,...</td>\n",
       "      <td>[중소기업, 동일, 업계, 회사, 임원, 안정적, 직장, 안정적, 수입, 회사, 발...</td>\n",
       "      <td>[중소기업, 동일, 업계, 회사, 임원, 안정, 직장, 안정, 수입, 회사, 발주,...</td>\n",
       "      <td>[중소기업, 업계, 회사, 임원, 안정, 직장, 안정, 수입, 회사, 발주, 직원,...</td>\n",
       "    </tr>\n",
       "    <tr>\n",
       "      <th>2</th>\n",
       "      <td>2</td>\n",
       "      <td>남성</td>\n",
       "      <td>30대</td>\n",
       "      <td>b</td>\n",
       "      <td>안녕하세요  저는 부천 있는 중소기업 현장에서 근무하고 있습니다 나이가 있는 관계로...</td>\n",
       "      <td>[중소기업, 현장, 근무, 나이, 관계, 장난, 올해, 사람, 연애, 결혼]</td>\n",
       "      <td>[안녕, 부천, 중소기업, 현장, 근무, 나이, 관계, 장난, 넉살, 올해, 사람,...</td>\n",
       "      <td>[안녕, 중소기업, 현장, 근무, 나이, 관계, 장난, 올해, 사람, 연애, 연애,...</td>\n",
       "      <td>[부천, 중소기업, 현장, 근무, 나이, 관계, 장난, 보고, 올해, 사람, 알콩달...</td>\n",
       "    </tr>\n",
       "    <tr>\n",
       "      <th>3</th>\n",
       "      <td>3</td>\n",
       "      <td>남성</td>\n",
       "      <td>40대</td>\n",
       "      <td>e</td>\n",
       "      <td>저는 개발자입니다 저랑 남아있는 생을 행복하게 함께보낼 배우자를 찾습니다</td>\n",
       "      <td>[행복, 배우자]</td>\n",
       "      <td>[개발자, 행복, 배우자]</td>\n",
       "      <td>[개발자, 행복, 배우자]</td>\n",
       "      <td>[개발자, 배우자]</td>\n",
       "    </tr>\n",
       "    <tr>\n",
       "      <th>4</th>\n",
       "      <td>4</td>\n",
       "      <td>여성</td>\n",
       "      <td>20대</td>\n",
       "      <td>h</td>\n",
       "      <td>여자 입니다</td>\n",
       "      <td>[여자]</td>\n",
       "      <td>[여자]</td>\n",
       "      <td>[여자]</td>\n",
       "      <td>[여자]</td>\n",
       "    </tr>\n",
       "  </tbody>\n",
       "</table>\n",
       "</div>"
      ],
      "text/plain": [
       "   user_id Sex  Age location  \\\n",
       "0        0  여성  40대        b   \n",
       "1        1  남성  40대        k   \n",
       "2        2  남성  30대        b   \n",
       "3        3  남성  40대        e   \n",
       "4        4  여성  20대        h   \n",
       "\n",
       "                                        Introduction  \\\n",
       "0  좋은 인연을 만나기가 참 힘드네요  서로 배려해주고 아껴주는  친구처럼 편안한 사람...   \n",
       "1  중소기업이지만 동일업계에서 인정받는 회사에 임원입니다  안정적인 직장에 안정적인 수...   \n",
       "2  안녕하세요  저는 부천 있는 중소기업 현장에서 근무하고 있습니다 나이가 있는 관계로...   \n",
       "3           저는 개발자입니다 저랑 남아있는 생을 행복하게 함께보낼 배우자를 찾습니다   \n",
       "4                                            여자 입니다    \n",
       "\n",
       "                                             Komoran  \\\n",
       "0                       [인연, 배려, 친구, 편안, 사람, 사람, 노력]   \n",
       "1  [중소기업, 동일, 업계, 회사, 임원, 안정, 직장, 안정, 수입, 회사, 직원,...   \n",
       "2         [중소기업, 현장, 근무, 나이, 관계, 장난, 올해, 사람, 연애, 결혼]   \n",
       "3                                          [행복, 배우자]   \n",
       "4                                               [여자]   \n",
       "\n",
       "                                                kkma  \\\n",
       "0                       [인연, 배려, 친구, 편안, 사람, 사람, 노력]   \n",
       "1  [중소기업, 동일, 업계, 회사, 임원, 안정적, 직장, 안정적, 수입, 회사, 발...   \n",
       "2  [안녕, 부천, 중소기업, 현장, 근무, 나이, 관계, 장난, 넉살, 올해, 사람,...   \n",
       "3                                     [개발자, 행복, 배우자]   \n",
       "4                                               [여자]   \n",
       "\n",
       "                                               mecab  \\\n",
       "0                       [인연, 배려, 친구, 편안, 사람, 사람, 노력]   \n",
       "1  [중소기업, 동일, 업계, 회사, 임원, 안정, 직장, 안정, 수입, 회사, 발주,...   \n",
       "2  [안녕, 중소기업, 현장, 근무, 나이, 관계, 장난, 올해, 사람, 연애, 연애,...   \n",
       "3                                     [개발자, 행복, 배우자]   \n",
       "4                                               [여자]   \n",
       "\n",
       "                                                 okt  \n",
       "0                       [인연, 서로, 배려, 친구, 사람, 사람, 노력]  \n",
       "1  [중소기업, 업계, 회사, 임원, 안정, 직장, 안정, 수입, 회사, 발주, 직원,...  \n",
       "2  [부천, 중소기업, 현장, 근무, 나이, 관계, 장난, 보고, 올해, 사람, 알콩달...  \n",
       "3                                         [개발자, 배우자]  \n",
       "4                                               [여자]  "
      ]
     },
     "metadata": {},
     "output_type": "display_data"
    }
   ],
   "source": [
    "display(pre_df.head(5))"
   ]
  },
  {
   "cell_type": "markdown",
   "id": "3dae541e",
   "metadata": {},
   "source": [
    "- Komoran : error 4, 못잡는 것 95, 소요시간 10초\n",
    "- kkma : error 5, 못잡는 것 10, 소요시간 15분\n",
    "- mecab : error 0, 못잡는 것 16, 소요시간 0.37초\n",
    "- Okt : error 0, 못잡는 것 20, 소요시간 23초"
   ]
  },
  {
   "cell_type": "markdown",
   "id": "7de71e9a",
   "metadata": {},
   "source": [
    "- 시간 mecab > Komoran > Okt > kkma\n",
    "- output 만족도 Okt > mecab > Komoran==kkma"
   ]
  },
  {
   "cell_type": "code",
   "execution_count": null,
   "id": "d5edb607",
   "metadata": {},
   "outputs": [],
   "source": []
  }
 ],
 "metadata": {
  "kernelspec": {
   "display_name": "Python 3",
   "language": "python",
   "name": "python3"
  },
  "language_info": {
   "codemirror_mode": {
    "name": "ipython",
    "version": 3
   },
   "file_extension": ".py",
   "mimetype": "text/x-python",
   "name": "python",
   "nbconvert_exporter": "python",
   "pygments_lexer": "ipython3",
   "version": "3.7.11"
  }
 },
 "nbformat": 4,
 "nbformat_minor": 5
}
